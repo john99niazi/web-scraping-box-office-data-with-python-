{
 "cells": [
  {
   "cell_type": "markdown",
   "id": "79b6464a",
   "metadata": {
    "papermill": {
     "duration": 0.011729,
     "end_time": "2024-10-15T03:34:04.125918",
     "exception": false,
     "start_time": "2024-10-15T03:34:04.114189",
     "status": "completed"
    },
    "tags": []
   },
   "source": [
    "<h1 style='background:#2da6c4;border:0; color:black;\n",
    "    box-shadow: 10px 10px 5px 0px rgba(0,0,0,0.75);\n",
    "    transform: rotateX(10deg);\n",
    "    '><center style='color: white;'>Scraping Box Office Mojo Data Using Python</center></h1>"
   ]
  },
  {
   "cell_type": "code",
   "execution_count": null,
   "id": "80451434",
   "metadata": {
    "papermill": {
     "duration": 0.010027,
     "end_time": "2024-10-15T03:34:04.146125",
     "exception": false,
     "start_time": "2024-10-15T03:34:04.136098",
     "status": "completed"
    },
    "tags": []
   },
   "outputs": [],
   "source": []
  },
  {
   "cell_type": "code",
   "execution_count": 1,
   "id": "f05a43ae",
   "metadata": {
    "_cell_guid": "b1076dfc-b9ad-4769-8c92-a6c4dae69d19",
    "_kg_hide-input": true,
    "_uuid": "8f2839f25d086af736a60e9eeb907d3b93b6e0e5",
    "execution": {
     "iopub.execute_input": "2024-10-15T03:34:04.168858Z",
     "iopub.status.busy": "2024-10-15T03:34:04.168233Z",
     "iopub.status.idle": "2024-10-15T03:34:04.428034Z",
     "shell.execute_reply": "2024-10-15T03:34:04.426656Z"
    },
    "papermill": {
     "duration": 0.275318,
     "end_time": "2024-10-15T03:34:04.431511",
     "exception": false,
     "start_time": "2024-10-15T03:34:04.156193",
     "status": "completed"
    },
    "tags": []
   },
   "outputs": [],
   "source": [
    "import numpy as np # linear algebra\n",
    "import pandas as pd # data processing, CSV file I/O (e.g. pd.read_csv)\n",
    "from bs4 import BeautifulSoup\n",
    "import requests\n",
    "from datetime import date"
   ]
  },
  {
   "cell_type": "markdown",
   "id": "e2901c3e",
   "metadata": {
    "papermill": {
     "duration": 0.009855,
     "end_time": "2024-10-15T03:34:04.451592",
     "exception": false,
     "start_time": "2024-10-15T03:34:04.441737",
     "status": "completed"
    },
    "tags": []
   },
   "source": [
    "<div align=center>\n",
    "    <img src=\"https://www.parsehub.com/blog/content/images/2021/06/what-is-web-sraping-parsehub.jpeg\" width=500/>\n",
    "</div>"
   ]
  },
  {
   "cell_type": "markdown",
   "id": "99681d98",
   "metadata": {
    "papermill": {
     "duration": 0.009847,
     "end_time": "2024-10-15T03:34:04.471565",
     "exception": false,
     "start_time": "2024-10-15T03:34:04.461718",
     "status": "completed"
    },
    "tags": []
   },
   "source": [
    "Web scraping is simply crawling the html and javascript of a webpage to extract the details we want to use as data. The most complicated part of this is inspecting the webpage source code to determine what to grab and what to ignore. \n",
    "\n",
    "In this demo I'll demonstrate how to create a dataset from the weekend performance page of Box Office Mojo, a great datasource for box office performance data. The associated dataset that is created and updated from this notebook can be found here:\n",
    "\n",
    "### [U.S. Weekend Box Office Summary](https://www.kaggle.com/datasets/jonbown/weekend-box-office-summaries)\n"
   ]
  },
  {
   "cell_type": "markdown",
   "id": "8f34597e",
   "metadata": {
    "papermill": {
     "duration": 0.009915,
     "end_time": "2024-10-15T03:34:04.491444",
     "exception": false,
     "start_time": "2024-10-15T03:34:04.481529",
     "status": "completed"
    },
    "tags": []
   },
   "source": [
    "<div style=\"padding:10px; \n",
    "            color:#2da6c4;\n",
    "            margin:10px;\n",
    "            font-size:150%;\n",
    "            display:fill;\n",
    "            border-radius:1px;\n",
    "            border-style: solid;\n",
    "            border-color:#2da6c4;\n",
    "            background-color:black;\n",
    "            overflow:hidden;\">\n",
    "    <center>\n",
    "        <a id='top'></a>\n",
    "        <b>Table of Contents</b>\n",
    "    </center>\n",
    "    <br>\n",
    "    <ul>\n",
    "        <li>\n",
    "            <a href=\"#1\">1 -  Check if website allows Scraping</a>\n",
    "        </li>\n",
    "        <li>\n",
    "            <a href=\"#2\">2 - Determine the URL</a>\n",
    "        </li>\n",
    "        <li>\n",
    "            <a href=\"#3\">3 - Make Request</a>\n",
    "        <li>\n",
    "            <a href=\"#4\">4 - Use Beautiful Soup</a>\n",
    "        </li> \n",
    "        <li>\n",
    "            <a href=\"#5\">5 - Inspection</a>\n",
    "        </li>\n",
    "        <li>\n",
    "            <a href=\"#6\">6 - Testing</a>\n",
    "        </li>\n",
    "        <li>\n",
    "            <a href=\"#7\">7 - Create Write Function</a>\n",
    "        </li>\n",
    "        <li>\n",
    "            <a href=\"#8\">8 - Finishing Up</a>\n",
    "        </li>\n",
    "    </ul>\n",
    "</div>"
   ]
  },
  {
   "cell_type": "markdown",
   "id": "cc4bc58e",
   "metadata": {
    "papermill": {
     "duration": 0.009724,
     "end_time": "2024-10-15T03:34:04.511126",
     "exception": false,
     "start_time": "2024-10-15T03:34:04.501402",
     "status": "completed"
    },
    "tags": []
   },
   "source": [
    "<h1 style='background:#2da6c4;border:0; color:black;\n",
    "    box-shadow: 10px 10px 5px 0px rgba(0,0,0,0.75);\n",
    "    transform: rotateX(10deg);\n",
    "    '><center style='color: white;'>1. Check if website allows scraping</center></h1>"
   ]
  },
  {
   "cell_type": "markdown",
   "id": "de6c8dd5",
   "metadata": {
    "papermill": {
     "duration": 0.009606,
     "end_time": "2024-10-15T03:34:04.530767",
     "exception": false,
     "start_time": "2024-10-15T03:34:04.521161",
     "status": "completed"
    },
    "tags": []
   },
   "source": [
    "Take the root of the url, in this case https://www.boxofficemojo.com and add '/robots.txt' to the end. This will come up with a page that shows what type of web scraping is allowed or disallowed. Thankfully Box Office Mojo allows all."
   ]
  },
  {
   "attachments": {
    "3882e607-a22d-46d3-8196-a31ea2328a64.png": {
     "image/png": "[encoded data removed]"
    }
   },
   "cell_type": "markdown",
   "id": "6fe8a56f",
   "metadata": {
    "papermill": {
     "duration": 0.009624,
     "end_time": "2024-10-15T03:34:04.550372",
     "exception": false,
     "start_time": "2024-10-15T03:34:04.540748",
     "status": "completed"
    },
    "tags": []
   },
   "source": [
    "![Screenshot 2023-02-16 122051.png](attachment:3882e607-a22d-46d3-8196-a31ea2328a64.png)"
   ]
  },
  {
   "cell_type": "markdown",
   "id": "0e5c0bda",
   "metadata": {
    "papermill": {
     "duration": 0.010005,
     "end_time": "2024-10-15T03:34:04.571260",
     "exception": false,
     "start_time": "2024-10-15T03:34:04.561255",
     "status": "completed"
    },
    "tags": []
   },
   "source": [
    "<a id=\"2\"></a>\n",
    "<h1 style='background:#2da6c4;border:0; color:black;\n",
    "    box-shadow: 10px 10px 5px 0px rgba(0,0,0,0.75);\n",
    "    transform: rotateX(10deg);\n",
    "    '><center style='color: white;'>2. Determine the URL</center></h1>"
   ]
  },
  {
   "cell_type": "code",
   "execution_count": 2,
   "id": "d1f6133a",
   "metadata": {
    "execution": {
     "iopub.execute_input": "2024-10-15T03:34:04.594992Z",
     "iopub.status.busy": "2024-10-15T03:34:04.594409Z",
     "iopub.status.idle": "2024-10-15T03:34:04.601251Z",
     "shell.execute_reply": "2024-10-15T03:34:04.599801Z"
    },
    "papermill": {
     "duration": 0.02294,
     "end_time": "2024-10-15T03:34:04.604342",
     "exception": false,
     "start_time": "2024-10-15T03:34:04.581402",
     "status": "completed"
    },
    "tags": []
   },
   "outputs": [],
   "source": [
    "# Request to website and download HTML contents\n",
    "url='https://www.boxofficemojo.com/weekend/by-year/2021/'\n",
    "#you may need to play around with the different urls to find the ones that take parameters"
   ]
  },
  {
   "cell_type": "markdown",
   "id": "ebcf0598",
   "metadata": {
    "papermill": {
     "duration": 0.00968,
     "end_time": "2024-10-15T03:34:04.624271",
     "exception": false,
     "start_time": "2024-10-15T03:34:04.614591",
     "status": "completed"
    },
    "tags": []
   },
   "source": [
    "<a id=\"3\"></a>\n",
    "<h1 style='background:#2da6c4;border:0; color:black;\n",
    "    box-shadow: 10px 10px 5px 0px rgba(0,0,0,0.75);\n",
    "    transform: rotateX(10deg);\n",
    "    '><center style='color: white;'>3. Make Request</center></h1>"
   ]
  },
  {
   "cell_type": "code",
   "execution_count": 3,
   "id": "0167d84f",
   "metadata": {
    "execution": {
     "iopub.execute_input": "2024-10-15T03:34:04.646872Z",
     "iopub.status.busy": "2024-10-15T03:34:04.645939Z",
     "iopub.status.idle": "2024-10-15T03:34:05.217562Z",
     "shell.execute_reply": "2024-10-15T03:34:05.216268Z"
    },
    "papermill": {
     "duration": 0.586704,
     "end_time": "2024-10-15T03:34:05.221111",
     "exception": false,
     "start_time": "2024-10-15T03:34:04.634407",
     "status": "completed"
    },
    "tags": []
   },
   "outputs": [],
   "source": [
    "req=requests.get(url)\n",
    "content=req.text"
   ]
  },
  {
   "cell_type": "markdown",
   "id": "403d4fce",
   "metadata": {
    "papermill": {
     "duration": 0.009752,
     "end_time": "2024-10-15T03:34:05.241312",
     "exception": false,
     "start_time": "2024-10-15T03:34:05.231560",
     "status": "completed"
    },
    "tags": []
   },
   "source": [
    "<a id=\"4\"></a>\n",
    "<h1 style='background:#2da6c4;border:0; color:black;\n",
    "    box-shadow: 10px 10px 5px 0px rgba(0,0,0,0.75);\n",
    "    transform: rotateX(10deg);\n",
    "    '><center style='color: white;'>4. Use Beautiful Soup</center></h1>"
   ]
  },
  {
   "cell_type": "code",
   "execution_count": 4,
   "id": "fbc1d98e",
   "metadata": {
    "execution": {
     "iopub.execute_input": "2024-10-15T03:34:05.264744Z",
     "iopub.status.busy": "2024-10-15T03:34:05.264182Z",
     "iopub.status.idle": "2024-10-15T03:34:05.327513Z",
     "shell.execute_reply": "2024-10-15T03:34:05.326267Z"
    },
    "papermill": {
     "duration": 0.079356,
     "end_time": "2024-10-15T03:34:05.330906",
     "exception": false,
     "start_time": "2024-10-15T03:34:05.251550",
     "status": "completed"
    },
    "tags": []
   },
   "outputs": [],
   "source": [
    "soup=BeautifulSoup(content)"
   ]
  },
  {
   "cell_type": "markdown",
   "id": "3ce609df",
   "metadata": {
    "papermill": {
     "duration": 0.010003,
     "end_time": "2024-10-15T03:34:05.351337",
     "exception": false,
     "start_time": "2024-10-15T03:34:05.341334",
     "status": "completed"
    },
    "tags": []
   },
   "source": [
    "<a id=\"5\"></a>\n",
    "<h1 style='background:#2da6c4;border:0; color:black;\n",
    "    box-shadow: 10px 10px 5px 0px rgba(0,0,0,0.75);\n",
    "    transform: rotateX(10deg);\n",
    "    '><center style='color: white;'>5. Inspect page data to determine out to set up the scraping algorithm</center></h1>\n",
    "\n",
    "> Generally tabular data that is visible on the page will be put into 'tr' tags. With some of the code below I am exploring edge cases in the ouput of the page. When there is a special occasion for the weekend, in this case thanksgiving, there is a different format and structure that is displayed."
   ]
  },
  {
   "cell_type": "code",
   "execution_count": 5,
   "id": "8ba5d0ac",
   "metadata": {
    "execution": {
     "iopub.execute_input": "2024-10-15T03:34:05.375071Z",
     "iopub.status.busy": "2024-10-15T03:34:05.373746Z",
     "iopub.status.idle": "2024-10-15T03:34:05.382976Z",
     "shell.execute_reply": "2024-10-15T03:34:05.381182Z"
    },
    "papermill": {
     "duration": 0.024476,
     "end_time": "2024-10-15T03:34:05.386204",
     "exception": false,
     "start_time": "2024-10-15T03:34:05.361728",
     "status": "completed"
    },
    "tags": []
   },
   "outputs": [],
   "source": [
    "rows=soup.findAll('tr')"
   ]
  },
  {
   "cell_type": "code",
   "execution_count": 6,
   "id": "07bdf048",
   "metadata": {
    "execution": {
     "iopub.execute_input": "2024-10-15T03:34:05.409404Z",
     "iopub.status.busy": "2024-10-15T03:34:05.408891Z",
     "iopub.status.idle": "2024-10-15T03:34:05.415187Z",
     "shell.execute_reply": "2024-10-15T03:34:05.413913Z"
    },
    "papermill": {
     "duration": 0.02144,
     "end_time": "2024-10-15T03:34:05.418213",
     "exception": false,
     "start_time": "2024-10-15T03:34:05.396773",
     "status": "completed"
    },
    "tags": []
   },
   "outputs": [],
   "source": [
    "data = rows[8].findAll('td')"
   ]
  },
  {
   "cell_type": "code",
   "execution_count": 7,
   "id": "678a10dc",
   "metadata": {
    "execution": {
     "iopub.execute_input": "2024-10-15T03:34:05.441710Z",
     "iopub.status.busy": "2024-10-15T03:34:05.441191Z",
     "iopub.status.idle": "2024-10-15T03:34:05.454401Z",
     "shell.execute_reply": "2024-10-15T03:34:05.452949Z"
    },
    "papermill": {
     "duration": 0.030262,
     "end_time": "2024-10-15T03:34:05.459071",
     "exception": false,
     "start_time": "2024-10-15T03:34:05.428809",
     "status": "completed"
    },
    "tags": []
   },
   "outputs": [
    {
     "data": {
      "text/plain": [
       "[<td class=\"a-text-left mojo-header-column mojo-truncate mojo-field-type-date_interval mojo-sort-column\"><a class=\"a-link-normal\" href=\"/weekend/2021W48/occasion/us_thanksgiving_5/?ref_=bo_wey_table_8\">Nov 24-28</a><div class=\"a-section a-spacing-none\"><span class=\"a-size-small a-color-secondary\">Thanksgiving 5-Day</span></div></td>,\n",
       " <td class=\"a-text-right mojo-field-type-money\">$137,256,716</td>,\n",
       " <td class=\"a-text-right mojo-field-type-percent_delta\">-</td>,\n",
       " <td class=\"a-text-right mojo-field-type-money mojo-estimatable\">$142,082,464</td>,\n",
       " <td class=\"a-text-right mojo-field-type-percent_delta mojo-estimatable\">-</td>,\n",
       " <td class=\"a-text-right mojo-field-type-positive_integer\">42</td>,\n",
       " <td class=\"a-text-left mojo-field-type-release mojo-cell-wide\"><a class=\"a-link-normal\" href=\"/release/rl1887208961/?ref_=bo_wey_table_8\">Encanto</a></td>,\n",
       " <td class=\"a-text-left mojo-field-type-genre hidden\">-</td>,\n",
       " <td class=\"a-text-right mojo-field-type-money hidden\">-</td>,\n",
       " <td class=\"a-text-right mojo-field-type-duration hidden\">-</td>,\n",
       " <td class=\"a-text-right mojo-field-type-date_interval\"><a class=\"a-link-normal\" href=\"/weekend/2021W48/occasion/us_thanksgiving_5/?ref_=bo_wey_table_8\">48</a></td>,\n",
       " <td class=\"a-text-right mojo-field-type-boolean hidden\">true</td>]"
      ]
     },
     "execution_count": 7,
     "metadata": {},
     "output_type": "execute_result"
    }
   ],
   "source": [
    "data"
   ]
  },
  {
   "cell_type": "code",
   "execution_count": 8,
   "id": "32372073",
   "metadata": {
    "execution": {
     "iopub.execute_input": "2024-10-15T03:34:05.484070Z",
     "iopub.status.busy": "2024-10-15T03:34:05.482494Z",
     "iopub.status.idle": "2024-10-15T03:34:05.492218Z",
     "shell.execute_reply": "2024-10-15T03:34:05.490918Z"
    },
    "papermill": {
     "duration": 0.025274,
     "end_time": "2024-10-15T03:34:05.495152",
     "exception": false,
     "start_time": "2024-10-15T03:34:05.469878",
     "status": "completed"
    },
    "tags": []
   },
   "outputs": [
    {
     "data": {
      "text/plain": [
       "'Nov 24-28'"
      ]
     },
     "execution_count": 8,
     "metadata": {},
     "output_type": "execute_result"
    }
   ],
   "source": [
    "#Date when there is a special occasion listed\n",
    "data[0].findAll('a')[0].text"
   ]
  },
  {
   "cell_type": "code",
   "execution_count": 9,
   "id": "4cf8485c",
   "metadata": {
    "execution": {
     "iopub.execute_input": "2024-10-15T03:34:05.519919Z",
     "iopub.status.busy": "2024-10-15T03:34:05.518583Z",
     "iopub.status.idle": "2024-10-15T03:34:05.528003Z",
     "shell.execute_reply": "2024-10-15T03:34:05.526729Z"
    },
    "papermill": {
     "duration": 0.024841,
     "end_time": "2024-10-15T03:34:05.530803",
     "exception": false,
     "start_time": "2024-10-15T03:34:05.505962",
     "status": "completed"
    },
    "tags": []
   },
   "outputs": [
    {
     "data": {
      "text/plain": [
       "'Thanksgiving 5-Day'"
      ]
     },
     "execution_count": 9,
     "metadata": {},
     "output_type": "execute_result"
    }
   ],
   "source": [
    "#Special occasion that is listed\n",
    "data[0].findAll('span')[0].text"
   ]
  },
  {
   "cell_type": "code",
   "execution_count": 10,
   "id": "d044d0f8",
   "metadata": {
    "execution": {
     "iopub.execute_input": "2024-10-15T03:34:05.555003Z",
     "iopub.status.busy": "2024-10-15T03:34:05.554463Z",
     "iopub.status.idle": "2024-10-15T03:34:05.563385Z",
     "shell.execute_reply": "2024-10-15T03:34:05.562092Z"
    },
    "papermill": {
     "duration": 0.024344,
     "end_time": "2024-10-15T03:34:05.566114",
     "exception": false,
     "start_time": "2024-10-15T03:34:05.541770",
     "status": "completed"
    },
    "tags": []
   },
   "outputs": [
    {
     "data": {
      "text/plain": [
       "[<span class=\"a-size-small a-color-secondary\">Thanksgiving 5-Day</span>]"
      ]
     },
     "execution_count": 10,
     "metadata": {},
     "output_type": "execute_result"
    }
   ],
   "source": [
    "data[0].findAll('span')"
   ]
  },
  {
   "cell_type": "markdown",
   "id": "b37aa098",
   "metadata": {
    "papermill": {
     "duration": 0.01073,
     "end_time": "2024-10-15T03:34:05.588478",
     "exception": false,
     "start_time": "2024-10-15T03:34:05.577748",
     "status": "completed"
    },
    "tags": []
   },
   "source": [
    "<a id=\"6\"></a>\n",
    "<h1 style='background:#2da6c4;border:0; color:black;\n",
    "    box-shadow: 10px 10px 5px 0px rgba(0,0,0,0.75);\n",
    "    transform: rotateX(10deg);\n",
    "    '><center style='color: white;'>6. Test data construction</center></h1>"
   ]
  },
  {
   "cell_type": "code",
   "execution_count": 11,
   "id": "7266655e",
   "metadata": {
    "execution": {
     "iopub.execute_input": "2024-10-15T03:34:05.614122Z",
     "iopub.status.busy": "2024-10-15T03:34:05.613537Z",
     "iopub.status.idle": "2024-10-15T03:34:05.641196Z",
     "shell.execute_reply": "2024-10-15T03:34:05.639769Z"
    },
    "papermill": {
     "duration": 0.044875,
     "end_time": "2024-10-15T03:34:05.644614",
     "exception": false,
     "start_time": "2024-10-15T03:34:05.599739",
     "status": "completed"
    },
    "tags": []
   },
   "outputs": [],
   "source": [
    "appended_data = []\n",
    "for row in rows:\n",
    "    data_row = {}\n",
    "    data = row.findAll('td')\n",
    "    if len(data) == 0:\n",
    "        continue\n",
    "    if len(data[0].findAll('span')) > 0:\n",
    "        #special weekend\n",
    "        data_row['occasion'] = data[0].findAll('span')[0].text\n",
    "        data_row['date'] = data[0].findAll('a')[0].text\n",
    "    else:\n",
    "        #normal weekend\n",
    "        data_row['occasion'] = \"\"\n",
    "        data_row['date'] = data[0].text\n",
    "    data_row['top10_gross'] = data[1].text\n",
    "    data_row['top10_wow_change'] = data[2].text\n",
    "    data_row['overall_gross'] = data[3].text\n",
    "    data_row['overall_wow_change'] = data[4].text\n",
    "    data_row['num_releases'] = data[5].text\n",
    "    data_row['top_release'] = data[6].text\n",
    "    data_row['week_no'] = data[10].text\n",
    "    appended_data.append(data_row)\n",
    "weekend_data = pd.DataFrame(appended_data, columns = ['date','occasion', 'top10_gross', 'top10_wow_change', 'overall_gross', 'overall_wow_change', 'num_releases', 'top_release', 'week_no']) "
   ]
  },
  {
   "cell_type": "code",
   "execution_count": 12,
   "id": "06ceb5f9",
   "metadata": {
    "execution": {
     "iopub.execute_input": "2024-10-15T03:34:05.669107Z",
     "iopub.status.busy": "2024-10-15T03:34:05.668549Z",
     "iopub.status.idle": "2024-10-15T03:34:05.697370Z",
     "shell.execute_reply": "2024-10-15T03:34:05.695895Z"
    },
    "papermill": {
     "duration": 0.044585,
     "end_time": "2024-10-15T03:34:05.700305",
     "exception": false,
     "start_time": "2024-10-15T03:34:05.655720",
     "status": "completed"
    },
    "tags": []
   },
   "outputs": [
    {
     "data": {
      "text/html": [
       "<div>\n",
       "<style scoped>\n",
       "    .dataframe tbody tr th:only-of-type {\n",
       "        vertical-align: middle;\n",
       "    }\n",
       "\n",
       "    .dataframe tbody tr th {\n",
       "        vertical-align: top;\n",
       "    }\n",
       "\n",
       "    .dataframe thead th {\n",
       "        text-align: right;\n",
       "    }\n",
       "</style>\n",
       "<table border=\"1\" class=\"dataframe\">\n",
       "  <thead>\n",
       "    <tr style=\"text-align: right;\">\n",
       "      <th></th>\n",
       "      <th>date</th>\n",
       "      <th>occasion</th>\n",
       "      <th>top10_gross</th>\n",
       "      <th>top10_wow_change</th>\n",
       "      <th>overall_gross</th>\n",
       "      <th>overall_wow_change</th>\n",
       "      <th>num_releases</th>\n",
       "      <th>top_release</th>\n",
       "      <th>week_no</th>\n",
       "    </tr>\n",
       "  </thead>\n",
       "  <tbody>\n",
       "    <tr>\n",
       "      <th>0</th>\n",
       "      <td>Dec 31-Jan 2, 2022</td>\n",
       "      <td></td>\n",
       "      <td>$95,723,075</td>\n",
       "      <td>-31.6%</td>\n",
       "      <td>$98,910,707</td>\n",
       "      <td>-31.2%</td>\n",
       "      <td>35</td>\n",
       "      <td>Spider-Man: No Way Home</td>\n",
       "      <td>53</td>\n",
       "    </tr>\n",
       "    <tr>\n",
       "      <th>1</th>\n",
       "      <td>Dec 24-26</td>\n",
       "      <td></td>\n",
       "      <td>$139,868,872</td>\n",
       "      <td>-50.4%</td>\n",
       "      <td>$143,835,740</td>\n",
       "      <td>-49.2%</td>\n",
       "      <td>40</td>\n",
       "      <td>Spider-Man: No Way Home</td>\n",
       "      <td>52</td>\n",
       "    </tr>\n",
       "    <tr>\n",
       "      <th>2</th>\n",
       "      <td>Dec 17-19</td>\n",
       "      <td></td>\n",
       "      <td>$281,737,588</td>\n",
       "      <td>+591.1%</td>\n",
       "      <td>$282,972,675</td>\n",
       "      <td>+544%</td>\n",
       "      <td>43</td>\n",
       "      <td>Spider-Man: No Way Home</td>\n",
       "      <td>51</td>\n",
       "    </tr>\n",
       "    <tr>\n",
       "      <th>3</th>\n",
       "      <td>Dec 10-12</td>\n",
       "      <td></td>\n",
       "      <td>$40,765,448</td>\n",
       "      <td>-14.2%</td>\n",
       "      <td>$43,940,100</td>\n",
       "      <td>-16.6%</td>\n",
       "      <td>45</td>\n",
       "      <td>West Side Story</td>\n",
       "      <td>50</td>\n",
       "    </tr>\n",
       "    <tr>\n",
       "      <th>4</th>\n",
       "      <td>Dec 3-5</td>\n",
       "      <td>Post-Thanksgiving</td>\n",
       "      <td>$47,539,355</td>\n",
       "      <td>-48.7%</td>\n",
       "      <td>$52,704,939</td>\n",
       "      <td>-45.4%</td>\n",
       "      <td>47</td>\n",
       "      <td>Encanto</td>\n",
       "      <td>49</td>\n",
       "    </tr>\n",
       "  </tbody>\n",
       "</table>\n",
       "</div>"
      ],
      "text/plain": [
       "                 date           occasion   top10_gross top10_wow_change  \\\n",
       "0  Dec 31-Jan 2, 2022                      $95,723,075           -31.6%   \n",
       "1           Dec 24-26                     $139,868,872           -50.4%   \n",
       "2           Dec 17-19                     $281,737,588          +591.1%   \n",
       "3           Dec 10-12                      $40,765,448           -14.2%   \n",
       "4             Dec 3-5  Post-Thanksgiving   $47,539,355           -48.7%   \n",
       "\n",
       "  overall_gross overall_wow_change num_releases              top_release  \\\n",
       "0   $98,910,707             -31.2%           35  Spider-Man: No Way Home   \n",
       "1  $143,835,740             -49.2%           40  Spider-Man: No Way Home   \n",
       "2  $282,972,675              +544%           43  Spider-Man: No Way Home   \n",
       "3   $43,940,100             -16.6%           45          West Side Story   \n",
       "4   $52,704,939             -45.4%           47                  Encanto   \n",
       "\n",
       "  week_no  \n",
       "0      53  \n",
       "1      52  \n",
       "2      51  \n",
       "3      50  \n",
       "4      49  "
      ]
     },
     "execution_count": 12,
     "metadata": {},
     "output_type": "execute_result"
    }
   ],
   "source": [
    "weekend_data.head()"
   ]
  },
  {
   "cell_type": "markdown",
   "id": "583f0f38",
   "metadata": {
    "papermill": {
     "duration": 0.011485,
     "end_time": "2024-10-15T03:34:05.724894",
     "exception": false,
     "start_time": "2024-10-15T03:34:05.713409",
     "status": "completed"
    },
    "tags": []
   },
   "source": [
    "<a id=\"7\"></a>\n",
    "<h1 style='background:#2da6c4;border:0; color:black;\n",
    "    box-shadow: 10px 10px 5px 0px rgba(0,0,0,0.75);\n",
    "    transform: rotateX(10deg);\n",
    "    '><center style='color: white;'>7. Create write function</center></h1>\n",
    "\n",
    "### Make sure to write to kaggle working directory"
   ]
  },
  {
   "cell_type": "code",
   "execution_count": 13,
   "id": "e75489b0",
   "metadata": {
    "execution": {
     "iopub.execute_input": "2024-10-15T03:34:05.749953Z",
     "iopub.status.busy": "2024-10-15T03:34:05.749404Z",
     "iopub.status.idle": "2024-10-15T03:34:05.765179Z",
     "shell.execute_reply": "2024-10-15T03:34:05.763922Z"
    },
    "papermill": {
     "duration": 0.031911,
     "end_time": "2024-10-15T03:34:05.768083",
     "exception": false,
     "start_time": "2024-10-15T03:34:05.736172",
     "status": "completed"
    },
    "tags": []
   },
   "outputs": [],
   "source": [
    "def scrape_weekend_summary(year):\n",
    "    url=f'https://www.boxofficemojo.com/weekend/by-year/{year}/'\n",
    "    req=requests.get(url)\n",
    "    content=req.text\n",
    "    soup=BeautifulSoup(content)\n",
    "    rows=soup.findAll('tr')\n",
    "    appended_data = []\n",
    "    for row in rows:\n",
    "        data_row = {}\n",
    "        data = row.findAll('td')\n",
    "        if len(data) == 0:\n",
    "            continue\n",
    "        if len(data[0].findAll('span')) > 0:\n",
    "        #special weekend\n",
    "            data_row['occasion'] = data[0].findAll('span')[0].text\n",
    "            data_row['date'] = data[0].findAll('a')[0].text\n",
    "        else:\n",
    "        #normal weekend\n",
    "            data_row['occasion'] = \"\"\n",
    "            data_row['date'] = data[0].text\n",
    "        data_row['top10_gross'] = data[1].text\n",
    "        data_row['top10_wow_change'] = data[2].text\n",
    "        data_row['overall_gross'] = data[3].text\n",
    "        data_row['overall_wow_change'] = data[4].text\n",
    "        data_row['num_releases'] = data[5].text\n",
    "        data_row['top_release'] = data[6].text\n",
    "        data_row['week_no'] = data[10].text\n",
    "        appended_data.append(data_row)\n",
    "    weekend_data = pd.DataFrame(appended_data, columns = ['date', 'occasion', 'top10_gross', 'top10_wow_change', 'overall_gross', 'overall_wow_change', 'num_releases', 'top_release', 'week_no'])\n",
    "    weekend_data.to_csv(f'/kaggle/working/weekend_summary_{year}.csv', index=False)"
   ]
  },
  {
   "cell_type": "code",
   "execution_count": 14,
   "id": "5c78192f",
   "metadata": {
    "execution": {
     "iopub.execute_input": "2024-10-15T03:34:05.793770Z",
     "iopub.status.busy": "2024-10-15T03:34:05.792475Z",
     "iopub.status.idle": "2024-10-15T03:34:05.798480Z",
     "shell.execute_reply": "2024-10-15T03:34:05.797137Z"
    },
    "papermill": {
     "duration": 0.022064,
     "end_time": "2024-10-15T03:34:05.801496",
     "exception": false,
     "start_time": "2024-10-15T03:34:05.779432",
     "status": "completed"
    },
    "tags": []
   },
   "outputs": [],
   "source": [
    "#Test on one year\n",
    "#scrape_weekend_summary('2022')"
   ]
  },
  {
   "cell_type": "code",
   "execution_count": 15,
   "id": "0be6ed96",
   "metadata": {
    "execution": {
     "iopub.execute_input": "2024-10-15T03:34:05.828982Z",
     "iopub.status.busy": "2024-10-15T03:34:05.827819Z",
     "iopub.status.idle": "2024-10-15T03:34:05.834500Z",
     "shell.execute_reply": "2024-10-15T03:34:05.833121Z"
    },
    "papermill": {
     "duration": 0.024056,
     "end_time": "2024-10-15T03:34:05.837550",
     "exception": false,
     "start_time": "2024-10-15T03:34:05.813494",
     "status": "completed"
    },
    "tags": []
   },
   "outputs": [],
   "source": [
    "#Get current year\n",
    "todays_date = date.today()\n",
    "current_year = todays_date.year"
   ]
  },
  {
   "cell_type": "code",
   "execution_count": 16,
   "id": "a1f428ed",
   "metadata": {
    "execution": {
     "iopub.execute_input": "2024-10-15T03:34:05.864738Z",
     "iopub.status.busy": "2024-10-15T03:34:05.863725Z",
     "iopub.status.idle": "2024-10-15T03:34:05.870704Z",
     "shell.execute_reply": "2024-10-15T03:34:05.869064Z"
    },
    "papermill": {
     "duration": 0.025028,
     "end_time": "2024-10-15T03:34:05.874309",
     "exception": false,
     "start_time": "2024-10-15T03:34:05.849281",
     "status": "completed"
    },
    "tags": []
   },
   "outputs": [],
   "source": [
    "years = range(1977, current_year+1)"
   ]
  },
  {
   "cell_type": "code",
   "execution_count": 17,
   "id": "c46052e9",
   "metadata": {
    "execution": {
     "iopub.execute_input": "2024-10-15T03:34:05.902154Z",
     "iopub.status.busy": "2024-10-15T03:34:05.901395Z",
     "iopub.status.idle": "2024-10-15T03:34:33.910564Z",
     "shell.execute_reply": "2024-10-15T03:34:33.909241Z"
    },
    "papermill": {
     "duration": 28.027174,
     "end_time": "2024-10-15T03:34:33.914044",
     "exception": false,
     "start_time": "2024-10-15T03:34:05.886870",
     "status": "completed"
    },
    "tags": []
   },
   "outputs": [
    {
     "name": "stdout",
     "output_type": "stream",
     "text": [
      "1977\n",
      "1978\n",
      "1979\n",
      "1980\n",
      "1981\n",
      "1982\n",
      "1983\n",
      "1984\n",
      "1985\n",
      "1986\n",
      "1987\n",
      "1988\n",
      "1989\n",
      "1990\n",
      "1991\n",
      "1992\n",
      "1993\n",
      "1994\n",
      "1995\n",
      "1996\n",
      "1997\n",
      "1998\n",
      "1999\n",
      "2000\n",
      "2001\n",
      "2002\n",
      "2003\n",
      "2004\n",
      "2005\n",
      "2006\n",
      "2007\n",
      "2008\n",
      "2009\n",
      "2010\n",
      "2011\n",
      "2012\n",
      "2013\n",
      "2014\n",
      "2015\n",
      "2016\n",
      "2017\n",
      "2018\n",
      "2019\n",
      "2020\n",
      "2021\n",
      "2022\n",
      "2023\n",
      "2024\n"
     ]
    }
   ],
   "source": [
    "for year in years:\n",
    "    print(year)\n",
    "    scrape_weekend_summary(year)"
   ]
  },
  {
   "cell_type": "markdown",
   "id": "7cd75204",
   "metadata": {
    "papermill": {
     "duration": 0.015716,
     "end_time": "2024-10-15T03:34:33.947281",
     "exception": false,
     "start_time": "2024-10-15T03:34:33.931565",
     "status": "completed"
    },
    "tags": []
   },
   "source": [
    "<a id=\"8\"></a>\n",
    "<h1 style='background:#2da6c4;border:0; color:black;\n",
    "    box-shadow: 10px 10px 5px 0px rgba(0,0,0,0.75);\n",
    "    transform: rotateX(10deg);\n",
    "    '><center style='color: white;'>8. Finishing Up</center></h1>\n",
    "\n",
    "- Make Notebook Public\n",
    "- Create new dataset from notebook\n",
    "- Select \"keep data up to date with notebook\"\n",
    "- Set scheduler in notebook for automatic updates"
   ]
  }
 ],
 "metadata": {
  "kaggle": {
   "accelerator": "none",
   "dataSources": [],
   "dockerImageVersionId": 30235,
   "isGpuEnabled": false,
   "isInternetEnabled": true,
   "language": "python",
   "sourceType": "notebook"
  },
  "kernelspec": {
   "display_name": "Python 3",
   "language": "python",
   "name": "python3"
  },
  "language_info": {
   "codemirror_mode": {
    "name": "ipython",
    "version": 3
   },
   "file_extension": ".py",
   "mimetype": "text/x-python",
   "name": "python",
   "nbconvert_exporter": "python",
   "pygments_lexer": "ipython3",
   "version": "3.7.12"
  },
  "papermill": {
   "default_parameters": {},
   "duration": 44.233608,
   "end_time": "2024-10-15T03:34:34.792937",
   "environment_variables": {},
   "exception": null,
   "input_path": "__notebook__.ipynb",
   "output_path": "__notebook__.ipynb",
   "parameters": {},
   "start_time": "2024-10-15T03:33:50.559329",
   "version": "2.3.4"
  }
 },
 "nbformat": 4,
 "nbformat_minor": 5
}
